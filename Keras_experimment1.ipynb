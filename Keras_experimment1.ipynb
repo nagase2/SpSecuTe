{
  "nbformat": 4,
  "nbformat_minor": 0,
  "metadata": {
    "colab": {
      "name": "Keras-experimment1.ipynb",
      "version": "0.3.2",
      "provenance": [],
      "private_outputs": true,
      "collapsed_sections": [],
      "include_colab_link": true
    },
    "kernelspec": {
      "name": "python3",
      "display_name": "Python 3"
    },
    "accelerator": "GPU"
  },
  "cells": [
    {
      "cell_type": "markdown",
      "metadata": {
        "id": "view-in-github",
        "colab_type": "text"
      },
      "source": [
        "<a href=\"https://colab.research.google.com/github/nagase2/SpSecuTe/blob/master/Keras_experimment1.ipynb\" target=\"_parent\"><img src=\"https://colab.research.google.com/assets/colab-badge.svg\" alt=\"Open In Colab\"/></a>"
      ]
    },
    {
      "metadata": {
        "id": "5mbXQl47kg9n",
        "colab_type": "code",
        "colab": {}
      },
      "cell_type": "code",
      "source": [
        "# import libraries\n",
        "%matplotlib inline\n",
        "import pandas as pd\n",
        "import keras\n",
        "from keras.datasets import mnist\n",
        "import matplotlib.pyplot as plt\n"
      ],
      "execution_count": 0,
      "outputs": []
    },
    {
      "metadata": {
        "id": "OmqPIr2Ll_C9",
        "colab_type": "code",
        "colab": {}
      },
      "cell_type": "code",
      "source": [
        "\n",
        "# Download MNIST datasets \n",
        "# This datasets include 2 tapples. x_train, x_test(28,28) and y_train, y_test(9 classes).\n",
        "(x_train, y_train), (x_test, y_test) = mnist.load_data()"
      ],
      "execution_count": 0,
      "outputs": []
    },
    {
      "metadata": {
        "id": "2b-TGMEsmBc6",
        "colab_type": "code",
        "colab": {}
      },
      "cell_type": "code",
      "source": [
        "# show sample data\n",
        "fig = plt.figure(figsize=(9,9))\n",
        "\n",
        "for i in range(36):\n",
        "    ax = fig.add_subplot(6, 6, i+1, xticks=[], yticks=[])\n",
        "    ax.imshow(x_train[i], cmap='gist_gray')\n",
        "    \n",
        "\n",
        "\n",
        "x_train.shape"
      ],
      "execution_count": 0,
      "outputs": []
    },
    {
      "metadata": {
        "id": "ISYH8KmCmBa2",
        "colab_type": "code",
        "colab": {}
      },
      "cell_type": "code",
      "source": [
        "# reshape 28*28 pixel data into 784 dim data\n",
        "# convert into float type and normalize pixel data from 0.0 to 1.0\n",
        "x_train = x_train.reshape(60000, 784).astype('float32') /255\n",
        "x_test = x_test.reshape(10000, 784).astype('float32') /255\n",
        "\n",
        "# encode label data into \"one-hot\" \n",
        "y_train = keras.utils.np_utils.to_categorical(y_train.astype('int32'),10)\n",
        "y_test = keras.utils.np_utils.to_categorical(y_test.astype('int32'),10)"
      ],
      "execution_count": 0,
      "outputs": []
    },
    {
      "metadata": {
        "id": "BXcs3hNYmBYq",
        "colab_type": "code",
        "colab": {}
      },
      "cell_type": "code",
      "source": [
        ""
      ],
      "execution_count": 0,
      "outputs": []
    },
    {
      "metadata": {
        "id": "Hwr9hDWApwQW",
        "colab_type": "code",
        "colab": {}
      },
      "cell_type": "code",
      "source": [
        "# Sequential Model\n",
        "\n",
        "from keras.models import Sequential\n",
        "from keras.layers import Dense, Dropout, Activation\n",
        "from keras.optimizers import RMSprop\n",
        "\n",
        "\n",
        "# select Sequiential model\n",
        "model = Sequential()\n",
        "\n",
        "# 1st layer : fully connected layer(output:512)\n",
        "# acrivation methods: ReLU(rectified linear unit)\n",
        "# only first layer needs to be define input_shape\n",
        "model.add(Dense(512, activation='relu', input_shape=(784,)))\n",
        "\n",
        "# use Dropout regularization rate to avoid overfitting\n",
        "# Randomly ignoring connections between layers \n",
        "model.add(Dropout(0.2))\n",
        "\n",
        "# 2st layer : fully connected layer(output:512)\n",
        "model.add(Dense(512, activation='relu'))\n",
        "model.add(Dropout(0.2))\n",
        "\n",
        "# 3st layer : fully connected layer(output:10)\n",
        "# acrivation methods: softmax, which squashes the outputs of each unit to be between 0 and 1.(often used in the final layer)\n",
        "model.add(Dense(10, activation='softmax'))\n",
        "\n",
        "# Set definitions for traning\n",
        "model.compile(loss='categorical_crossentropy',\n",
        "              optimizer=RMSprop(),\n",
        "              metrics=['accuracy'])\n",
        "\n",
        "# Excute training for 20(epochs) times\n",
        "history = model.fit(x_train, y_train, batch_size=128, epochs=20, verbose=1, validation_data=(x_test, y_test))\n"
      ],
      "execution_count": 0,
      "outputs": []
    },
    {
      "metadata": {
        "id": "wRpqWkGSmBWd",
        "colab_type": "code",
        "colab": {}
      },
      "cell_type": "code",
      "source": [
        "from keras.models import Sequential\n",
        "from keras.layers import Dense, Dropout, Activation\n",
        "from keras.optimizers import RMSprop\n",
        "\n",
        "from keras.optimizers import RMSprop\n",
        "\n",
        "# モデルの作成\n",
        "model = Sequential()\n",
        "\n",
        "# モデルにレイヤーを積み上げていく\n",
        "model.add(Dense(units=512, input_shape=(784,)))\n",
        "model.add(Activation('relu'))\n",
        "model.add(Dense(units=10))\n",
        "model.add(Activation('softmax'))\n",
        "\n",
        "# model.add(Dense(512, activation='relu', input_shape=(784,)))\n",
        "\n",
        "\n",
        "# 訓練プロセスの定義\n",
        "model.compile(loss='categorical_crossentropy',\n",
        "              optimizer=RMSprop(),\n",
        "              metrics=['accuracy'])\n",
        "\n",
        "# 訓練の実行\n",
        "# (x_train, y_trainはNumpy行列の学習データ)\n",
        "#model.fit(x_train, y_train, epochs=5, batch_size=128)\n",
        "# Excute training for 20(epochs) times\n",
        "history = model.fit(x_train, y_train, batch_size=128, epochs=15, verbose=1, validation_data=(x_test, y_test))\n",
        "\n",
        "\n",
        "# 予測の実行\n",
        "classes = model.predict(x_test, batch_size=128)\n"
      ],
      "execution_count": 0,
      "outputs": []
    },
    {
      "metadata": {
        "id": "mTAJPUtkotpI",
        "colab_type": "code",
        "colab": {}
      },
      "cell_type": "code",
      "source": [
        "# plot the resulut\n",
        "plt.plot(history.history['acc'])\n",
        "plt.plot(history.history['val_acc'])\n",
        "plt.title('model accuracy')\n",
        "plt.ylabel('accuracy')\n",
        "plt.xlabel('epoch')\n",
        "plt.legend(['train', 'test'], loc='upper left')\n",
        "plt.show()\n",
        "\n",
        "# plot the loss\n",
        "plt.plot(history.history['loss'])\n",
        "plt.plot(history.history['val_loss'])\n",
        "plt.title('model loss')\n",
        "plt.ylabel('loss')\n",
        "plt.xlabel('epoch')\n",
        "plt.legend(['train', 'test'], loc='upper left')\n",
        "plt.show()"
      ],
      "execution_count": 0,
      "outputs": []
    },
    {
      "metadata": {
        "id": "SamajFK-svd4",
        "colab_type": "code",
        "colab": {}
      },
      "cell_type": "code",
      "source": [
        "\n",
        "# Functional API\n",
        "\n",
        "import matplotlib.pyplot as plt\n",
        "from keras.engine import Model\n",
        "from keras.layers import Input, Dense, Dropout\n",
        "from keras.optimizers import RMSprop\n",
        "\n",
        "# from MnistData import reshapeDataToOneDimension\n",
        "\n",
        "inputs = Input(shape=(784,))\n",
        "\n",
        "nw = Dense(512, activation='relu')(inputs)\n",
        "nw = Dropout(.2)(nw)\n",
        "nw = Dense(512, activation='relu')(nw)\n",
        "nw = Dropout(.2)(nw)\n",
        "predictions = Dense(10, activation='softmax')(nw)\n",
        "\n",
        "model = Model(inputs=inputs, outputs=predictions)\n",
        "model.compile(loss='categorical_crossentropy', optimizer=RMSprop(), metrics=['accuracy'])\n",
        "\n",
        "# (x_train, y_train), (x_test, y_test) = reshapeDataToOneDimension()\n",
        "history = model.fit(x_train, y_train, batch_size=128, epochs=20, verbose=1, validation_data=(x_test, y_test))\n",
        "\n",
        "plt.plot(history.history['acc'])\n",
        "plt.plot(history.history['val_acc'])\n",
        "plt.title('model accuracy')\n",
        "plt.ylabel('accuracy')\n",
        "plt.xlabel('epoch')\n",
        "plt.legend(['train', 'test'], loc='upper left')\n",
        "plt.show()"
      ],
      "execution_count": 0,
      "outputs": []
    },
    {
      "metadata": {
        "id": "kxkJBaE4tiWl",
        "colab_type": "code",
        "colab": {}
      },
      "cell_type": "code",
      "source": [
        "plt.plot(history.history['loss'])\n",
        "plt.plot(history.history['val_loss'])\n",
        "plt.title('model loss')\n",
        "plt.ylabel('loss')\n",
        "plt.xlabel('epoch')\n",
        "plt.legend(['train', 'test'], loc='upper left')\n",
        "plt.show()"
      ],
      "execution_count": 0,
      "outputs": []
    }
  ]
}